{
 "cells": [
  {
   "cell_type": "markdown",
   "metadata": {},
   "source": [
    "## Overview"
   ]
  },
  {
   "attachments": {},
   "cell_type": "markdown",
   "metadata": {},
   "source": [
    "The following steps will be carried out"
   ]
  },
  {
   "cell_type": "code",
   "execution_count": null,
   "metadata": {
    "dotnet_interactive": {
     "language": "mermaid"
    },
    "polyglot_notebook": {
     "kernelName": "mermaid"
    },
    "vscode": {
     "languageId": "polyglot-notebook"
    }
   },
   "outputs": [],
   "source": [
    "gitGraph:\n",
    "  commit\n",
    "  branch dev\n",
    "  commit\n",
    "  checkout main\n",
    "  merge dev\n",
    "  commit\n",
    "  branch feature\n",
    "  commit\n",
    "  checkout main\n",
    "  commit tag:\"conflict\"\n",
    "  merge feature tag:\"resolve\""
   ]
  },
  {
   "attachments": {},
   "cell_type": "markdown",
   "metadata": {},
   "source": [
    "## Helper Functions"
   ]
  },
  {
   "cell_type": "code",
   "execution_count": null,
   "metadata": {
    "dotnet_interactive": {
     "language": "pwsh"
    },
    "polyglot_notebook": {
     "kernelName": "pwsh"
    },
    "vscode": {
     "languageId": "polyglot-notebook"
    }
   },
   "outputs": [],
   "source": [
    "function Print-Title{\n",
    "  param($arg, $color=\"Yellow\")\n",
    "  $dash = \"=\"*70\n",
    "  Write-Host \"`n$dash`n$arg`n$dash\" -ForegroundColor $color\n",
    "}"
   ]
  },
  {
   "cell_type": "code",
   "execution_count": null,
   "metadata": {
    "dotnet_interactive": {
     "language": "pwsh"
    },
    "polyglot_notebook": {
     "kernelName": "pwsh"
    },
    "vscode": {
     "languageId": "polyglot-notebook"
    }
   },
   "outputs": [],
   "source": [
    "$GitRepoUrl = \"https://github.com/neduzze/PartialCheckout.git\"\n",
    "$GitRepoDir = \"TestRepo\"\n",
    "$cwd = \"D:/CODE/VS_Code/GitTutorials\"\n",
    "\n",
    "Print-Title \"Git Repo Url: $GitRepoUrl`nGit Repo Directory: $GitRepoDir`nCurrent Directory: $cwd\"\n"
   ]
  },
  {
   "cell_type": "code",
   "execution_count": null,
   "metadata": {
    "dotnet_interactive": {
     "language": "html"
    },
    "polyglot_notebook": {
     "kernelName": "html"
    },
    "vscode": {
     "languageId": "polyglot-notebook"
    }
   },
   "outputs": [],
   "source": [
    "<style>\n",
    ".tableData{\n",
    "  border: 1px solid red;\n",
    "  text-align: left;\n",
    "  color: cyan;\n",
    "}\n",
    "\n",
    "th, td, table {\n",
    "  text-align: left;\n",
    "  border: 1px solid red;\n",
    "  <!-- border-color: #96D4D4; -->\n",
    "\n",
    "}\n",
    ".cmd{\n",
    "  color:cyan;\n",
    "}\n",
    "</style>\n",
    "<div>\n",
    "  <h3>\n",
    "    ==========================================================<br>\n",
    "    <table>\n",
    "      <caption>Parameters</caption>\n",
    "      <tr>\n",
    "        <td>Git Repo URL</td>\n",
    "        <td id=\"GitRepoUrl\" class=\"tableData\"></td>\n",
    "      </tr>\n",
    "      <tr>\n",
    "        <td>Git Repo Directory</td>\n",
    "        <td id=\"GitRepoDir\" class=\"tableData\"> </td>\n",
    "      </tr>\n",
    "      <tr>\n",
    "        <td>Current Directory</td>\n",
    "        <td id=\"cwd\" class=\"tableData\"> </td>\n",
    "      </tr>\n",
    "    </table>\n",
    "    ==========================================================<br>\n",
    "  </h3>\n",
    "</div>\n",
    "\n",
    "#!javascript\n",
    "#!share  --from pwsh GitRepoUrl\n",
    "#!share  --from pwsh GitRepoDir\n",
    "#!share  --from pwsh cwd\n",
    "document.getElementById(\"GitRepoUrl\").innerHTML = GitRepoUrl\n",
    "document.getElementById(\"GitRepoDir\").innerHTML = GitRepoDir\n",
    "document.getElementById(\"cwd\").innerHTML = cwd"
   ]
  },
  {
   "attachments": {},
   "cell_type": "markdown",
   "metadata": {},
   "source": [
    "### Git clone\n",
    "<code stylee=\"color:white\">git clone <span style=\"color:cyan\">[repo url]</span> <span style=\"color:yellow\">[destination dir]</code>"
   ]
  },
  {
   "cell_type": "code",
   "execution_count": null,
   "metadata": {
    "dotnet_interactive": {
     "language": "pwsh"
    },
    "polyglot_notebook": {
     "kernelName": "pwsh"
    },
    "vscode": {
     "languageId": "polyglot-notebook"
    }
   },
   "outputs": [],
   "source": [
    "cd $cwd\n",
    "if (Test-Path $GitRepoDir){\n",
    "  Remove-Item $GitRepoDir -Force -Recurse\n",
    "  Print-Title \"Old directory deleted!\" \n",
    "}\n",
    "Print-Title \"Cloning ... \" Yellow\n",
    "git clone $GitRepoUrl $GitRepoDir\n",
    "\n",
    "if (Test-Path $GitRepoDir){\n",
    "  cd $cwd/$GitRepoDir\n",
    "  Print-Title \"Cloned successfully!\" Green\n",
    "  Print-Title \"Switching to directory: `n${pwd}\"\n",
    "}\n",
    "else{\n",
    "  Print-Title \"Cloning failed!\" Red\n",
    "}"
   ]
  },
  {
   "attachments": {},
   "cell_type": "markdown",
   "metadata": {},
   "source": [
    "### Git status\n",
    "<code>git status</code>"
   ]
  },
  {
   "cell_type": "code",
   "execution_count": null,
   "metadata": {
    "dotnet_interactive": {
     "language": "pwsh"
    },
    "polyglot_notebook": {
     "kernelName": "pwsh"
    },
    "vscode": {
     "languageId": "polyglot-notebook"
    }
   },
   "outputs": [],
   "source": [
    "Print-Title \"Git Status\"\n",
    "git status"
   ]
  },
  {
   "attachments": {},
   "cell_type": "markdown",
   "metadata": {},
   "source": [
    "### Git log\n",
    "\n",
    ">### [Documentation](https://git-scm.com/book/en/v2/Git-Basics-Viewing-the-Commit-History)"
   ]
  },
  {
   "cell_type": "code",
   "execution_count": null,
   "metadata": {
    "dotnet_interactive": {
     "language": "pwsh"
    },
    "polyglot_notebook": {
     "kernelName": "pwsh"
    },
    "vscode": {
     "languageId": "polyglot-notebook"
    }
   },
   "outputs": [],
   "source": [
    "Print-Title \"Log\"\n",
    "# git log --pretty=oneline --graph\n",
    "git log --pretty=format:\"%h  {%H} - %an, %ar : %s\""
   ]
  },
  {
   "cell_type": "markdown",
   "metadata": {},
   "source": [
    "### Files in directory"
   ]
  },
  {
   "cell_type": "code",
   "execution_count": null,
   "metadata": {
    "dotnet_interactive": {
     "language": "pwsh"
    },
    "polyglot_notebook": {
     "kernelName": "pwsh"
    },
    "vscode": {
     "languageId": "polyglot-notebook"
    }
   },
   "outputs": [],
   "source": [
    "Print-Title \"Files in Folder\"\n",
    "dir"
   ]
  },
  {
   "cell_type": "markdown",
   "metadata": {},
   "source": [
    "### View Readme.md"
   ]
  },
  {
   "cell_type": "code",
   "execution_count": null,
   "metadata": {
    "dotnet_interactive": {
     "language": "pwsh"
    },
    "polyglot_notebook": {
     "kernelName": "pwsh"
    },
    "vscode": {
     "languageId": "polyglot-notebook"
    }
   },
   "outputs": [],
   "source": [
    "Print-Title \"Contents of Readme.md\"\n",
    "Write-Host \"\"\n",
    "Get-Content Readme.md"
   ]
  },
  {
   "attachments": {},
   "cell_type": "markdown",
   "metadata": {},
   "source": [
    "### Modify and view Readme File"
   ]
  },
  {
   "cell_type": "code",
   "execution_count": null,
   "metadata": {
    "dotnet_interactive": {
     "language": "pwsh"
    },
    "polyglot_notebook": {
     "kernelName": "pwsh"
    },
    "vscode": {
     "languageId": "polyglot-notebook"
    }
   },
   "outputs": [],
   "source": [
    "Print-Title \"Modified Readme.md file\"\n",
    "Write-Host \"\"\n",
    "\n",
    "$ReadmeMsg = \"### New Readme File\"\n",
    "\n",
    "echo $ReadmeMsg > Readme.md\n",
    "Get-Content Readme.md"
   ]
  },
  {
   "cell_type": "markdown",
   "metadata": {},
   "source": [
    "### View Changes"
   ]
  },
  {
   "cell_type": "code",
   "execution_count": null,
   "metadata": {
    "dotnet_interactive": {
     "language": "pwsh"
    },
    "polyglot_notebook": {
     "kernelName": "pwsh"
    },
    "vscode": {
     "languageId": "polyglot-notebook"
    }
   },
   "outputs": [],
   "source": [
    "Print-Title \"Git Status\"\n",
    "git status"
   ]
  },
  {
   "attachments": {},
   "cell_type": "markdown",
   "metadata": {},
   "source": [
    "### Stage Changes\n",
    "### Command\n",
    "<code>git add [files to add]</code><br><br>\n",
    "use `-all` to stage all files   \n",
    "<br><code>git add Readme.md</code>"
   ]
  },
  {
   "cell_type": "code",
   "execution_count": null,
   "metadata": {
    "dotnet_interactive": {
     "language": "pwsh"
    },
    "polyglot_notebook": {
     "kernelName": "pwsh"
    },
    "vscode": {
     "languageId": "polyglot-notebook"
    }
   },
   "outputs": [],
   "source": [
    "Print-Title \"Staged Files\"\n",
    "git add Readme.md\n",
    "git status"
   ]
  },
  {
   "attachments": {},
   "cell_type": "markdown",
   "metadata": {},
   "source": [
    "### Git commit\n",
    ">Command  \n",
    "><code>git <span class=\"cmd\">commit</span> -m [commit message]</code>"
   ]
  },
  {
   "cell_type": "code",
   "execution_count": null,
   "metadata": {
    "dotnet_interactive": {
     "language": "pwsh"
    },
    "polyglot_notebook": {
     "kernelName": "pwsh"
    },
    "vscode": {
     "languageId": "polyglot-notebook"
    }
   },
   "outputs": [],
   "source": [
    "Print-Title \"Git Commit\"\n",
    "git commit -m \"Modified Readme file\"\n",
    "\n",
    "Print-Title \"Git Status\" Yellow\n",
    "git status"
   ]
  },
  {
   "attachments": {},
   "cell_type": "markdown",
   "metadata": {},
   "source": [
    "### Git branches\n",
    ">### [Documentation]()\n",
    "View branches:\n",
    ">Command   \n",
    "><code>git branch</code>\n",
    "\n",
    "Add branch:\n",
    ">Command   \n",
    "><code>git branch [name]</code>\n",
    "\n",
    "Switch branch:\n",
    ">Command   \n",
    "><code>git checkout [branch name]</code>\n"
   ]
  },
  {
   "cell_type": "code",
   "execution_count": null,
   "metadata": {
    "dotnet_interactive": {
     "language": "pwsh"
    },
    "polyglot_notebook": {
     "kernelName": "pwsh"
    },
    "vscode": {
     "languageId": "polyglot-notebook"
    }
   },
   "outputs": [],
   "source": [
    "Print-Title \"Branches\"\n",
    "git branch\n",
    "Print-Title \"Add Branch `\"dev`\"\"\n",
    "git branch dev\n",
    "git branch -a"
   ]
  }
 ],
 "metadata": {
  "language_info": {
   "name": "python"
  },
  "orig_nbformat": 4
 },
 "nbformat": 4,
 "nbformat_minor": 2
}
