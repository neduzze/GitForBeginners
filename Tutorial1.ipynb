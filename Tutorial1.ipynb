{
 "cells": [
  {
   "cell_type": "markdown",
   "metadata": {},
   "source": [
    "## Overview"
   ]
  },
  {
   "attachments": {},
   "cell_type": "markdown",
   "metadata": {},
   "source": [
    "The following steps will be carried out"
   ]
  },
  {
   "cell_type": "code",
   "execution_count": 204,
   "metadata": {
    "dotnet_interactive": {
     "language": "mermaid"
    },
    "polyglot_notebook": {
     "kernelName": "mermaid"
    },
    "vscode": {
     "languageId": "polyglot-notebook"
    }
   },
   "outputs": [
    {
     "data": {
      "text/html": [
       "<div class=\"mermaidMarkdownContainer\" style=\"background-color:white\">\r\n",
       "<link rel=\"stylesheet\" href=\"https://cdnjs.cloudflare.com/ajax/libs/font-awesome/6.2.0/css/all.min.css\">\r\n",
       "<script type=\"text/javascript\">\r\n",
       "\r\n",
       "loadMermaid_8da789af1ca64b9784ddf84f116d7a73 = () => {\r\n",
       " \r\n",
       "        (require.config({ 'paths': { 'context': '9.1.7', 'mermaidUri' : 'https://cdn.jsdelivr.net/npm/mermaid@9.1.7/dist/mermaid.min', 'urlArgs': 'cacheBuster=bfe083b5603f4345a937fd42a13d29fe' }}) || require)(['mermaidUri'], (mermaid) => {\r\n",
       "\r\n",
       "            let renderTarget = document.getElementById('8da789af1ca64b9784ddf84f116d7a73');\r\n",
       "            mermaid.mermaidAPI.render( \r\n",
       "                'mermaid_8da789af1ca64b9784ddf84f116d7a73', \r\n",
       "                `gitGraph:\r\n",
       "  commit\r\n",
       "  branch dev\r\n",
       "  commit\r\n",
       "  checkout main\r\n",
       "  merge dev\r\n",
       "  commit\r\n",
       "  branch feature\r\n",
       "  commit\r\n",
       "  checkout main\r\n",
       "  commit tag:\"conflict\"\r\n",
       "  merge feature tag:\"resolve\"`, \r\n",
       "                g => {\r\n",
       "                    renderTarget.innerHTML = g \r\n",
       "                });\r\n",
       "        },\r\n",
       "        (error) => {\r\n",
       "            console.log(error);\r\n",
       "        });\r\n",
       "}\r\n",
       "// ensure `require` is available globally\r\n",
       "if ((typeof(require) !==  typeof(Function)) || (typeof(require.config) !== typeof(Function))) {\r\n",
       "    let require_script = document.createElement('script');\r\n",
       "    require_script.setAttribute('src', 'https://cdnjs.cloudflare.com/ajax/libs/require.js/2.3.6/require.min.js');\r\n",
       "    require_script.setAttribute('type', 'text/javascript');\r\n",
       "    \r\n",
       "    \r\n",
       "    require_script.onload = function() {\r\n",
       "        loadMermaid_8da789af1ca64b9784ddf84f116d7a73();\r\n",
       "    };\r\n",
       "\r\n",
       "    document.getElementsByTagName('head')[0].appendChild(require_script);\r\n",
       "}\r\n",
       "else {\r\n",
       "    loadMermaid_8da789af1ca64b9784ddf84f116d7a73();\r\n",
       "}\r\n",
       "\r\n",
       "</script>\r\n",
       "<div id=\"8da789af1ca64b9784ddf84f116d7a73\"></div>\r\n",
       "</div>\r\n"
      ]
     },
     "metadata": {},
     "output_type": "display_data"
    }
   ],
   "source": [
    "gitGraph:\n",
    "  commit\n",
    "  branch dev\n",
    "  commit\n",
    "  checkout main\n",
    "  merge dev\n",
    "  commit\n",
    "  branch feature\n",
    "  commit\n",
    "  checkout main\n",
    "  commit tag:\"conflict\"\n",
    "  merge feature tag:\"resolve\""
   ]
  },
  {
   "attachments": {},
   "cell_type": "markdown",
   "metadata": {},
   "source": [
    "## Helper Functions"
   ]
  },
  {
   "cell_type": "code",
   "execution_count": 205,
   "metadata": {
    "dotnet_interactive": {
     "language": "pwsh"
    },
    "polyglot_notebook": {
     "kernelName": "pwsh"
    },
    "vscode": {
     "languageId": "polyglot-notebook"
    }
   },
   "outputs": [],
   "source": [
    "function Print-Title{\n",
    "  param($arg, $color=\"Yellow\")\n",
    "  $dash = \"=\"*70\n",
    "  Write-Host \"`n$dash`n$arg`n$dash\" -ForegroundColor $color\n",
    "}"
   ]
  },
  {
   "cell_type": "code",
   "execution_count": 206,
   "metadata": {
    "dotnet_interactive": {
     "language": "pwsh"
    },
    "polyglot_notebook": {
     "kernelName": "pwsh"
    },
    "vscode": {
     "languageId": "polyglot-notebook"
    }
   },
   "outputs": [
    {
     "name": "stdout",
     "output_type": "stream",
     "text": [
      "\u001b[93m\n",
      "======================================================================\n",
      "Git Repo Url: https://github.com/neduzze/PartialCheckout.git\n",
      "Git Repo Directory: TestRepo\n",
      "Current Directory: D:/CODE/VS_Code/GitTutorials\n",
      "======================================================================\u001b[0m\r\n"
     ]
    }
   ],
   "source": [
    "$GitRepoUrl = \"https://github.com/neduzze/PartialCheckout.git\"\n",
    "$GitRepoDir = \"TestRepo\"\n",
    "$cwd = \"D:/CODE/VS_Code/GitTutorials\"\n",
    "\n",
    "Print-Title \"Git Repo Url: $GitRepoUrl`nGit Repo Directory: $GitRepoDir`nCurrent Directory: $cwd\"\n"
   ]
  },
  {
   "cell_type": "code",
   "execution_count": 207,
   "metadata": {
    "dotnet_interactive": {
     "language": "html"
    },
    "polyglot_notebook": {
     "kernelName": "html"
    },
    "vscode": {
     "languageId": "polyglot-notebook"
    }
   },
   "outputs": [
    {
     "data": {
      "text/html": [
       "<style>\r\n",
       ".tableData{\r\n",
       "  border: 1px solid red;\r\n",
       "  text-align: left;\r\n",
       "  color: cyan;\r\n",
       "}\r\n",
       "\r\n",
       "th, td, table {\r\n",
       "  text-align: left;\r\n",
       "  border: 1px solid red;\r\n",
       "  <!-- border-color: #96D4D4; -->\r\n",
       "\r\n",
       "}\r\n",
       "</style>\r\n",
       "<div>\r\n",
       "  <h3>\r\n",
       "    ==========================================================<br>\r\n",
       "    <table>\r\n",
       "      <caption>Parameters</caption>\r\n",
       "      <tr>\r\n",
       "        <td>Git Repo URL</td>\r\n",
       "        <td id=\"GitRepoUrl\" class=\"tableData\"></td>\r\n",
       "      </tr>\r\n",
       "      <tr>\r\n",
       "        <td>Git Repo Directory</td>\r\n",
       "        <td id=\"GitRepoDir\" class=\"tableData\"> </td>\r\n",
       "      </tr>\r\n",
       "      <tr>\r\n",
       "        <td>Current Directory</td>\r\n",
       "        <td id=\"cwd\" class=\"tableData\"> </td>\r\n",
       "      </tr>\r\n",
       "    </table>\r\n",
       "    ==========================================================<br>\r\n",
       "  </h3>\r\n",
       "</div>\r\n",
       "\r\n"
      ]
     },
     "metadata": {},
     "output_type": "display_data"
    }
   ],
   "source": [
    "<style>\n",
    ".tableData{\n",
    "  border: 1px solid red;\n",
    "  text-align: left;\n",
    "  color: cyan;\n",
    "}\n",
    "\n",
    "th, td, table {\n",
    "  text-align: left;\n",
    "  border: 1px solid red;\n",
    "  <!-- border-color: #96D4D4; -->\n",
    "\n",
    "}\n",
    "</style>\n",
    "<div>\n",
    "  <h3>\n",
    "    ==========================================================<br>\n",
    "    <table>\n",
    "      <caption>Parameters</caption>\n",
    "      <tr>\n",
    "        <td>Git Repo URL</td>\n",
    "        <td id=\"GitRepoUrl\" class=\"tableData\"></td>\n",
    "      </tr>\n",
    "      <tr>\n",
    "        <td>Git Repo Directory</td>\n",
    "        <td id=\"GitRepoDir\" class=\"tableData\"> </td>\n",
    "      </tr>\n",
    "      <tr>\n",
    "        <td>Current Directory</td>\n",
    "        <td id=\"cwd\" class=\"tableData\"> </td>\n",
    "      </tr>\n",
    "    </table>\n",
    "    ==========================================================<br>\n",
    "  </h3>\n",
    "</div>\n",
    "\n",
    "#!javascript\n",
    "#!share  --from pwsh GitRepoUrl\n",
    "#!share  --from pwsh GitRepoDir\n",
    "#!share  --from pwsh cwd\n",
    "document.getElementById(\"GitRepoUrl\").innerHTML = GitRepoUrl\n",
    "document.getElementById(\"GitRepoDir\").innerHTML = GitRepoDir\n",
    "document.getElementById(\"cwd\").innerHTML = cwd"
   ]
  },
  {
   "attachments": {},
   "cell_type": "markdown",
   "metadata": {},
   "source": [
    "### Git clone\n",
    "<code stylee=\"color:white\">git clone <span style=\"color:cyan\">[repo url]</span> <span style=\"color:yellow\">[destination dir]</code>"
   ]
  },
  {
   "cell_type": "code",
   "execution_count": 208,
   "metadata": {
    "dotnet_interactive": {
     "language": "pwsh"
    },
    "polyglot_notebook": {
     "kernelName": "pwsh"
    },
    "vscode": {
     "languageId": "polyglot-notebook"
    }
   },
   "outputs": [
    {
     "name": "stdout",
     "output_type": "stream",
     "text": [
      "\u001b[93m\n",
      "======================================================================\n",
      "Old directory deleted!\n",
      "======================================================================\u001b[0m\n",
      "\u001b[93m\n",
      "======================================================================\n",
      "Cloning ... \n",
      "======================================================================\u001b[0m\n",
      "\u001b[31;1mCloning into 'TestRepo'...\u001b[0m\n",
      "\u001b[92m\n",
      "======================================================================\n",
      "Cloned successfully!\n",
      "======================================================================\u001b[0m\n",
      "\u001b[93m\n",
      "======================================================================\n",
      "Switching to directory: \n",
      "D:\\CODE\\VS_Code\\GitTutorials\\TestRepo\n",
      "======================================================================\u001b[0m\n"
     ]
    }
   ],
   "source": [
    "cd $cwd\n",
    "if (Test-Path $GitRepoDir){\n",
    "  Remove-Item $GitRepoDir -Force -Recurse\n",
    "  Print-Title \"Old directory deleted!\" \n",
    "}\n",
    "Print-Title \"Cloning ... \" Yellow\n",
    "git clone $GitRepoUrl $GitRepoDir\n",
    "\n",
    "if (Test-Path $GitRepoDir){\n",
    "  cd $cwd/$GitRepoDir\n",
    "  Print-Title \"Cloned successfully!\" Green\n",
    "  Print-Title \"Switching to directory: `n${pwd}\"\n",
    "}\n",
    "else{\n",
    "  Print-Title \"Cloning failed!\" Red\n",
    "}"
   ]
  },
  {
   "attachments": {},
   "cell_type": "markdown",
   "metadata": {},
   "source": [
    "### Git status\n",
    "<code>git status</code>"
   ]
  },
  {
   "cell_type": "code",
   "execution_count": 209,
   "metadata": {
    "dotnet_interactive": {
     "language": "pwsh"
    },
    "polyglot_notebook": {
     "kernelName": "pwsh"
    },
    "vscode": {
     "languageId": "polyglot-notebook"
    }
   },
   "outputs": [
    {
     "name": "stdout",
     "output_type": "stream",
     "text": [
      "\u001b[93m\n",
      "======================================================================\n",
      "Git Status\n",
      "======================================================================\u001b[0m\n",
      "On branch main\n",
      "Your branch is up to date with 'origin/main'.\n",
      "\n",
      "nothing to commit, working tree clean\n"
     ]
    }
   ],
   "source": [
    "Print-Title \"Git Status\"\n",
    "git status"
   ]
  },
  {
   "attachments": {},
   "cell_type": "markdown",
   "metadata": {},
   "source": [
    "### Git log\n",
    "\n",
    ">### [Documentation](https://git-scm.com/book/en/v2/Git-Basics-Viewing-the-Commit-History)"
   ]
  },
  {
   "cell_type": "code",
   "execution_count": 233,
   "metadata": {
    "dotnet_interactive": {
     "language": "pwsh"
    },
    "polyglot_notebook": {
     "kernelName": "pwsh"
    },
    "vscode": {
     "languageId": "polyglot-notebook"
    }
   },
   "outputs": [
    {
     "name": "stdout",
     "output_type": "stream",
     "text": [
      "\u001b[93m\n",
      "======================================================================\n",
      "Log\n",
      "======================================================================\u001b[0m\n",
      "8a61b7d  {8a61b7dfb42c2d7192da30bfae37cb681c8684eb} - ned, 28 minutes ago : Modified Readme file\n",
      "9a2d525  {9a2d5254beb70b997dc0a72eb75771df91897284} - ned, 7 weeks ago : 3rd\n",
      "a3087bd  {a3087bd177c89e919f4893b1da57a2521418ae8a} - ned, 7 weeks ago : 2nd commit\n",
      "6156dab  {6156dabf35073bc263e703ca7691f9982de7bd34} - ned, 7 weeks ago : commit from sub directory\n",
      "3c7c0cd  {3c7c0cde028c5fd87085991fcc4ce4f8599da721} - ned, 7 weeks ago : Math Modified\n",
      "8c386c0  {8c386c0eb988380f2a6a9ce3c7e05da429bcdc34} - ned, 7 weeks ago : first commit\n",
      "2ab8fed  {2ab8fedc727620a52296993527fc67ec26cacd23} - Atuonwu Chinedum Ugo, 7 weeks ago : Initial commit\n"
     ]
    }
   ],
   "source": [
    "Print-Title \"Log\"\n",
    "# git log --pretty=oneline --graph\n",
    "git log --pretty=format:\"%h  {%H} - %an, %ar : %s\""
   ]
  },
  {
   "cell_type": "markdown",
   "metadata": {},
   "source": [
    "### Files in directory"
   ]
  },
  {
   "cell_type": "code",
   "execution_count": 210,
   "metadata": {
    "dotnet_interactive": {
     "language": "pwsh"
    },
    "polyglot_notebook": {
     "kernelName": "pwsh"
    },
    "vscode": {
     "languageId": "polyglot-notebook"
    }
   },
   "outputs": [
    {
     "name": "stdout",
     "output_type": "stream",
     "text": [
      "\u001b[93m\n",
      "======================================================================\n",
      "Files in Folder\n",
      "======================================================================\u001b[0m\n",
      "\n",
      "    Directory: D:\\CODE\\VS_Code\\GitTutorials\\TestRepo\n",
      "\n",
      "\u001b[32;1mMode                 LastWriteTime         Length Name\u001b[0m\n",
      "\u001b[32;1m----                 -------------         ------ ----\u001b[0m\n",
      "d----            4/2/2023 11:34 PM                \u001b[44;1mCalculator\u001b[0m\n",
      "d----            4/2/2023 11:34 PM                \u001b[44;1mMath\u001b[0m\n",
      "-a---            4/2/2023 11:34 PM           1928 .gitignore\n",
      "-a---            4/2/2023 11:34 PM             17 Readme.md\n",
      "\n"
     ]
    }
   ],
   "source": [
    "Print-Title \"Files in Folder\"\n",
    "dir"
   ]
  },
  {
   "cell_type": "markdown",
   "metadata": {},
   "source": [
    "### View Readme.md"
   ]
  },
  {
   "cell_type": "code",
   "execution_count": 211,
   "metadata": {
    "dotnet_interactive": {
     "language": "pwsh"
    },
    "polyglot_notebook": {
     "kernelName": "pwsh"
    },
    "vscode": {
     "languageId": "polyglot-notebook"
    }
   },
   "outputs": [
    {
     "name": "stdout",
     "output_type": "stream",
     "text": [
      "\u001b[93m\n",
      "======================================================================\n",
      "Contents of Readme.md\n",
      "======================================================================\u001b[0m\n",
      "\n",
      "new readme file\n"
     ]
    }
   ],
   "source": [
    "Print-Title \"Contents of Readme.md\"\n",
    "Write-Host \"\"\n",
    "cat Readme.md"
   ]
  },
  {
   "attachments": {},
   "cell_type": "markdown",
   "metadata": {},
   "source": [
    "### Modify and view Readme File"
   ]
  },
  {
   "cell_type": "code",
   "execution_count": 212,
   "metadata": {
    "dotnet_interactive": {
     "language": "pwsh"
    },
    "polyglot_notebook": {
     "kernelName": "pwsh"
    },
    "vscode": {
     "languageId": "polyglot-notebook"
    }
   },
   "outputs": [
    {
     "name": "stdout",
     "output_type": "stream",
     "text": [
      "\u001b[93m\n",
      "======================================================================\n",
      "Modified Readme.md file\n",
      "======================================================================\u001b[0m\n",
      "\n",
      "### New Readme File\n"
     ]
    }
   ],
   "source": [
    "Print-Title \"Modified Readme.md file\"\n",
    "Write-Host \"\"\n",
    "\n",
    "$ReadmeMsg = \"### New Readme File\"\n",
    "\n",
    "echo $ReadmeMsg > Readme.md\n",
    "cat Readme.md"
   ]
  },
  {
   "cell_type": "markdown",
   "metadata": {},
   "source": [
    "### View Changes"
   ]
  },
  {
   "cell_type": "code",
   "execution_count": 213,
   "metadata": {
    "dotnet_interactive": {
     "language": "pwsh"
    },
    "polyglot_notebook": {
     "kernelName": "pwsh"
    },
    "vscode": {
     "languageId": "polyglot-notebook"
    }
   },
   "outputs": [
    {
     "name": "stdout",
     "output_type": "stream",
     "text": [
      "\u001b[93m\n",
      "======================================================================\n",
      "Git Status\n",
      "======================================================================\u001b[0m\n",
      "On branch main\n",
      "Your branch is up to date with 'origin/main'.\n",
      "\n",
      "Changes not staged for commit:\n",
      "  (use \"git add <file>...\" to update what will be committed)\n",
      "  (use \"git restore <file>...\" to discard changes in working directory)\n",
      "\tmodified:   Readme.md\n",
      "\n",
      "no changes added to commit (use \"git add\" and/or \"git commit -a\")\n"
     ]
    }
   ],
   "source": [
    "Print-Title \"Git Status\"\n",
    "git status"
   ]
  },
  {
   "attachments": {},
   "cell_type": "markdown",
   "metadata": {},
   "source": [
    "### Stage Changes\n",
    "### Command\n",
    "<code>git add [files to add]</code><br><br>\n",
    "use `-all` to stage all files   \n",
    "<br><code>git add Readme.md</code>"
   ]
  },
  {
   "cell_type": "code",
   "execution_count": 214,
   "metadata": {
    "dotnet_interactive": {
     "language": "pwsh"
    },
    "polyglot_notebook": {
     "kernelName": "pwsh"
    },
    "vscode": {
     "languageId": "polyglot-notebook"
    }
   },
   "outputs": [
    {
     "name": "stdout",
     "output_type": "stream",
     "text": [
      "\u001b[93m\n",
      "======================================================================\n",
      "Staged Files\n",
      "======================================================================\u001b[0m\n",
      "On branch main\n",
      "Your branch is up to date with 'origin/main'.\n",
      "\n",
      "Changes to be committed:\n",
      "  (use \"git restore --staged <file>...\" to unstage)\n",
      "\tmodified:   Readme.md\n",
      "\n"
     ]
    }
   ],
   "source": [
    "Print-Title \"Staged Files\"\n",
    "git add Readme.md\n",
    "git status"
   ]
  },
  {
   "cell_type": "markdown",
   "metadata": {},
   "source": [
    "### Git commit\n",
    "<code>git commit -m \"[commit message]\""
   ]
  },
  {
   "cell_type": "code",
   "execution_count": 215,
   "metadata": {
    "dotnet_interactive": {
     "language": "pwsh"
    },
    "polyglot_notebook": {
     "kernelName": "pwsh"
    },
    "vscode": {
     "languageId": "polyglot-notebook"
    }
   },
   "outputs": [
    {
     "name": "stdout",
     "output_type": "stream",
     "text": [
      "\u001b[93m\n",
      "======================================================================\n",
      "Git Commit\n",
      "======================================================================\u001b[0m\n",
      "[main 8a61b7d] Modified Readme file\n",
      " 1 file changed, 1 insertion(+), 1 deletion(-)\n",
      "\u001b[93m\n",
      "======================================================================\n",
      "Git Status\n",
      "======================================================================\u001b[0m\n",
      "On branch main\n",
      "Your branch is ahead of 'origin/main' by 1 commit.\n",
      "  (use \"git push\" to publish your local commits)\n",
      "\n",
      "nothing to commit, working tree clean\n"
     ]
    }
   ],
   "source": [
    "Print-Title \"Git Commit\"\n",
    "git commit -m \"Modified Readme file\"\n",
    "\n",
    "Print-Title \"Git Status\" Yellow\n",
    "git status"
   ]
  },
  {
   "attachments": {},
   "cell_type": "markdown",
   "metadata": {},
   "source": [
    "### Git branches\n",
    "View branches:\n",
    ">Command   \n",
    "><code>git branch</code>\n",
    "\n",
    "Add branch:\n",
    ">Command   \n",
    "><code>git branch [name]</code>\n",
    "\n",
    "Switch branch:\n",
    ">Command   \n",
    "><code>git checkout [branch name]</code>\n"
   ]
  },
  {
   "cell_type": "code",
   "execution_count": 216,
   "metadata": {
    "dotnet_interactive": {
     "language": "pwsh"
    },
    "polyglot_notebook": {
     "kernelName": "pwsh"
    },
    "vscode": {
     "languageId": "polyglot-notebook"
    }
   },
   "outputs": [
    {
     "name": "stdout",
     "output_type": "stream",
     "text": [
      "\u001b[93m\n",
      "======================================================================\n",
      "Branches\n",
      "======================================================================\u001b[0m\n",
      "* main\n",
      "\u001b[93m\n",
      "======================================================================\n",
      "Add Branch \"dev\"\n",
      "======================================================================\u001b[0m\n",
      "  dev\n",
      "* main\n"
     ]
    }
   ],
   "source": [
    "Print-Title \"Branches\"\n",
    "git branch\n",
    "Print-Title \"Add Branch `\"dev`\"\"\n",
    "git branch dev\n",
    "git branch"
   ]
  }
 ],
 "metadata": {
  "language_info": {
   "name": "python"
  },
  "orig_nbformat": 4
 },
 "nbformat": 4,
 "nbformat_minor": 2
}
