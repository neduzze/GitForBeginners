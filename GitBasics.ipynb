{
 "cells": [
  {
   "cell_type": "markdown",
   "metadata": {},
   "source": [
    "## Overview"
   ]
  },
  {
   "cell_type": "code",
   "execution_count": 1,
   "metadata": {
    "dotnet_interactive": {
     "language": "mermaid"
    },
    "polyglot_notebook": {
     "kernelName": "mermaid"
    },
    "vscode": {
     "languageId": "polyglot-notebook"
    }
   },
   "outputs": [
    {
     "data": {
      "text/html": [
       "<div class=\"mermaidMarkdownContainer\" style=\"background-color:white\">\n",
       "<link rel=\"stylesheet\" href=\"https://cdnjs.cloudflare.com/ajax/libs/font-awesome/6.2.0/css/all.min.css\">\n",
       "<script type=\"text/javascript\">\n",
       "\r\n",
       "loadMermaid_5da1838a60d74272bc8e03b06ca12424 = () => {\n",
       " \r\n",
       "        (require.config({ 'paths': { 'context': '9.1.7', 'mermaidUri' : 'https://cdn.jsdelivr.net/npm/mermaid@9.1.7/dist/mermaid.min', 'urlArgs': 'cacheBuster=4e405294d4e1416487ddd00264a74940' }}) || require)(['mermaidUri'], (mermaid) => {\n",
       "\r\n",
       "            let renderTarget = document.getElementById('5da1838a60d74272bc8e03b06ca12424');\r\n",
       "            mermaid.mermaidAPI.render( \r\n",
       "                'mermaid_5da1838a60d74272bc8e03b06ca12424', \r\n",
       "                `flowchart LR\n",
       "  lpc[Working Directory]\n",
       "  stg[staging area]\n",
       "  l_repo[(local repo)]\n",
       "  c_repo[(remote repo)]\n",
       "  \n",
       "  lpc --->|add|stg--->|commit|l_repo -->|push| c_repo\n",
       "  c_repo-->|fetch|l_repo \n",
       "  c_repo-->|pull|lpc \n",
       "  l_repo-->|checkout|lpc`, \r\n",
       "                g => {\r\n",
       "                    renderTarget.innerHTML = g \r\n",
       "                });\r\n",
       "        },\r\n",
       "        (error) => {\r\n",
       "            console.log(error);\r\n",
       "        });\r\n",
       "}\n",
       "// ensure `require` is available globally\r\n",
       "if ((typeof(require) !==  typeof(Function)) || (typeof(require.config) !== typeof(Function))) {\r\n",
       "    let require_script = document.createElement('script');\r\n",
       "    require_script.setAttribute('src', 'https://cdnjs.cloudflare.com/ajax/libs/require.js/2.3.6/require.min.js');\r\n",
       "    require_script.setAttribute('type', 'text/javascript');\r\n",
       "    \r\n",
       "    \r\n",
       "    require_script.onload = function() {\r\n",
       "        loadMermaid_5da1838a60d74272bc8e03b06ca12424();\r\n",
       "    };\r\n",
       "\r\n",
       "    document.getElementsByTagName('head')[0].appendChild(require_script);\r\n",
       "}\r\n",
       "else {\r\n",
       "    loadMermaid_5da1838a60d74272bc8e03b06ca12424();\r\n",
       "}\r\n",
       "\n",
       "</script>\n",
       "<div id=\"5da1838a60d74272bc8e03b06ca12424\"></div>\n",
       "</div>\n"
      ]
     },
     "metadata": {},
     "output_type": "display_data"
    }
   ],
   "source": [
    "flowchart LR\n",
    "  lpc[Working Directory]\n",
    "  stg[staging area]\n",
    "  l_repo[(local repo)]\n",
    "  c_repo[(remote repo)]\n",
    "  \n",
    "  lpc --->|add|stg--->|commit|l_repo -->|push| c_repo\n",
    "  c_repo-->|fetch|l_repo \n",
    "  c_repo-->|pull|lpc \n",
    "  l_repo-->|checkout|lpc"
   ]
  },
  {
   "cell_type": "code",
   "execution_count": 2,
   "metadata": {
    "dotnet_interactive": {
     "language": "mermaid"
    },
    "polyglot_notebook": {
     "kernelName": "mermaid"
    },
    "vscode": {
     "languageId": "polyglot-notebook"
    }
   },
   "outputs": [
    {
     "data": {
      "text/html": [
       "<div class=\"mermaidMarkdownContainer\" style=\"background-color:white\">\n",
       "<link rel=\"stylesheet\" href=\"https://cdnjs.cloudflare.com/ajax/libs/font-awesome/6.2.0/css/all.min.css\">\n",
       "<script type=\"text/javascript\">\n",
       "\r\n",
       "loadMermaid_b12fda37bd68402c88cce10a1e6c680c = () => {\n",
       " \r\n",
       "        (require.config({ 'paths': { 'context': '9.1.7', 'mermaidUri' : 'https://cdn.jsdelivr.net/npm/mermaid@9.1.7/dist/mermaid.min', 'urlArgs': 'cacheBuster=4e405294d4e1416487ddd00264a74940' }}) || require)(['mermaidUri'], (mermaid) => {\n",
       "\r\n",
       "            let renderTarget = document.getElementById('b12fda37bd68402c88cce10a1e6c680c');\r\n",
       "            mermaid.mermaidAPI.render( \r\n",
       "                'mermaid_b12fda37bd68402c88cce10a1e6c680c', \r\n",
       "                `sequenceDiagram\n",
       "  participant lpc as Working Directory\n",
       "  participant stg as Staging Area\n",
       "  participant l_repo as Local Git Repo\n",
       "  participant c_repo as Remote Git Repo\n",
       "\n",
       "  lpc->>stg: add\n",
       "  stg->>l_repo: commit\n",
       "  l_repo->>c_repo: push\n",
       "  c_repo->>l_repo: fetch\n",
       "  l_repo->>lpc: checkout\n",
       "  c_repo->>lpc: pull\n",
       "\n",
       "`, \r\n",
       "                g => {\r\n",
       "                    renderTarget.innerHTML = g \r\n",
       "                });\r\n",
       "        },\r\n",
       "        (error) => {\r\n",
       "            console.log(error);\r\n",
       "        });\r\n",
       "}\n",
       "// ensure `require` is available globally\r\n",
       "if ((typeof(require) !==  typeof(Function)) || (typeof(require.config) !== typeof(Function))) {\r\n",
       "    let require_script = document.createElement('script');\r\n",
       "    require_script.setAttribute('src', 'https://cdnjs.cloudflare.com/ajax/libs/require.js/2.3.6/require.min.js');\r\n",
       "    require_script.setAttribute('type', 'text/javascript');\r\n",
       "    \r\n",
       "    \r\n",
       "    require_script.onload = function() {\r\n",
       "        loadMermaid_b12fda37bd68402c88cce10a1e6c680c();\r\n",
       "    };\r\n",
       "\r\n",
       "    document.getElementsByTagName('head')[0].appendChild(require_script);\r\n",
       "}\r\n",
       "else {\r\n",
       "    loadMermaid_b12fda37bd68402c88cce10a1e6c680c();\r\n",
       "}\r\n",
       "\n",
       "</script>\n",
       "<div id=\"b12fda37bd68402c88cce10a1e6c680c\"></div>\n",
       "</div>\n"
      ]
     },
     "metadata": {},
     "output_type": "display_data"
    }
   ],
   "source": [
    "sequenceDiagram\n",
    "  participant lpc as Working Directory\n",
    "  participant stg as Staging Area\n",
    "  participant l_repo as Local Git Repo\n",
    "  participant c_repo as Remote Git Repo\n",
    "\n",
    "  lpc->>stg: add\n",
    "  stg->>l_repo: commit\n",
    "  l_repo->>c_repo: push\n",
    "  c_repo->>l_repo: fetch\n",
    "  l_repo->>lpc: checkout\n",
    "  c_repo->>lpc: pull\n",
    "\n"
   ]
  },
  {
   "attachments": {},
   "cell_type": "markdown",
   "metadata": {},
   "source": [
    "The following steps will be carried out"
   ]
  },
  {
   "cell_type": "code",
   "execution_count": 3,
   "metadata": {
    "dotnet_interactive": {
     "language": "mermaid"
    },
    "polyglot_notebook": {
     "kernelName": "mermaid"
    },
    "vscode": {
     "languageId": "polyglot-notebook"
    }
   },
   "outputs": [
    {
     "data": {
      "text/html": [
       "<div class=\"mermaidMarkdownContainer\" style=\"background-color:white\">\n",
       "<link rel=\"stylesheet\" href=\"https://cdnjs.cloudflare.com/ajax/libs/font-awesome/6.2.0/css/all.min.css\">\n",
       "<script type=\"text/javascript\">\n",
       "\r\n",
       "loadMermaid_f918bb898e2a402d84ac11ccc612ba86 = () => {\n",
       " \r\n",
       "        (require.config({ 'paths': { 'context': '9.1.7', 'mermaidUri' : 'https://cdn.jsdelivr.net/npm/mermaid@9.1.7/dist/mermaid.min', 'urlArgs': 'cacheBuster=4e405294d4e1416487ddd00264a74940' }}) || require)(['mermaidUri'], (mermaid) => {\n",
       "\r\n",
       "            let renderTarget = document.getElementById('f918bb898e2a402d84ac11ccc612ba86');\r\n",
       "            mermaid.mermaidAPI.render( \r\n",
       "                'mermaid_f918bb898e2a402d84ac11ccc612ba86', \r\n",
       "                `gitGraph\n",
       "  commit\n",
       "  branch dev\n",
       "  commit\n",
       "  checkout main\n",
       "  merge dev\n",
       "  commit\n",
       "  branch feature\n",
       "  commit\n",
       "  checkout main\n",
       "  commit tag:\"conflict\"\n",
       "  merge feature tag:\"resolve\"`, \r\n",
       "                g => {\r\n",
       "                    renderTarget.innerHTML = g \r\n",
       "                });\r\n",
       "        },\r\n",
       "        (error) => {\r\n",
       "            console.log(error);\r\n",
       "        });\r\n",
       "}\n",
       "// ensure `require` is available globally\r\n",
       "if ((typeof(require) !==  typeof(Function)) || (typeof(require.config) !== typeof(Function))) {\r\n",
       "    let require_script = document.createElement('script');\r\n",
       "    require_script.setAttribute('src', 'https://cdnjs.cloudflare.com/ajax/libs/require.js/2.3.6/require.min.js');\r\n",
       "    require_script.setAttribute('type', 'text/javascript');\r\n",
       "    \r\n",
       "    \r\n",
       "    require_script.onload = function() {\r\n",
       "        loadMermaid_f918bb898e2a402d84ac11ccc612ba86();\r\n",
       "    };\r\n",
       "\r\n",
       "    document.getElementsByTagName('head')[0].appendChild(require_script);\r\n",
       "}\r\n",
       "else {\r\n",
       "    loadMermaid_f918bb898e2a402d84ac11ccc612ba86();\r\n",
       "}\r\n",
       "\n",
       "</script>\n",
       "<div id=\"f918bb898e2a402d84ac11ccc612ba86\"></div>\n",
       "</div>\n"
      ]
     },
     "metadata": {},
     "output_type": "display_data"
    }
   ],
   "source": [
    "gitGraph\n",
    "  commit\n",
    "  branch dev\n",
    "  commit\n",
    "  checkout main\n",
    "  merge dev\n",
    "  commit\n",
    "  branch feature\n",
    "  commit\n",
    "  checkout main\n",
    "  commit tag:\"conflict\"\n",
    "  merge feature tag:\"resolve\""
   ]
  },
  {
   "attachments": {},
   "cell_type": "markdown",
   "metadata": {},
   "source": [
    "## Helper Functions"
   ]
  },
  {
   "cell_type": "code",
   "execution_count": 4,
   "metadata": {
    "dotnet_interactive": {
     "language": "pwsh"
    },
    "polyglot_notebook": {
     "kernelName": "pwsh"
    },
    "vscode": {
     "languageId": "polyglot-notebook"
    }
   },
   "outputs": [],
   "source": [
    "function Print-Title{\n",
    "  param($arg, $color=\"Yellow\")\n",
    "  $dash = \"=\"*70\n",
    "  Write-Host \"`n$dash`n$arg`n$dash\" -ForegroundColor $color\n",
    "}"
   ]
  },
  {
   "attachments": {},
   "cell_type": "markdown",
   "metadata": {},
   "source": [
    "## Parameters"
   ]
  },
  {
   "attachments": {},
   "cell_type": "markdown",
   "metadata": {},
   "source": [
    "### Git Repo"
   ]
  },
  {
   "cell_type": "code",
   "execution_count": 5,
   "metadata": {
    "dotnet_interactive": {
     "language": "pwsh"
    },
    "polyglot_notebook": {
     "kernelName": "pwsh"
    },
    "vscode": {
     "languageId": "polyglot-notebook"
    }
   },
   "outputs": [
    {
     "name": "stdout",
     "output_type": "stream",
     "text": [
      "\u001b[93m\n",
      "======================================================================\n",
      "Git Repo Url: https://github.boschdevcloud.com/GRB1LE/m2git.git\n",
      "Git Repo Directory: TestRepo\n",
      "Current Directory: C:/MyProjects/TT23/MoveToGit/GitDemo/GitForBeginners\n",
      "======================================================================\u001b[0m\n"
     ]
    }
   ],
   "source": [
    "$GitRepoUrl = \"https://github.boschdevcloud.com/GRB1LE/m2git.git\"\n",
    "$GitRepoDir = \"TestRepo\"\n",
    "$cwd = \"C:/MyProjects/TT23/MoveToGit/GitDemo/GitForBeginners\"\n",
    "\n",
    "Print-Title \"Git Repo Url: $GitRepoUrl`nGit Repo Directory: $GitRepoDir`nCurrent Directory: $cwd\"\n"
   ]
  },
  {
   "cell_type": "code",
   "execution_count": 6,
   "metadata": {
    "dotnet_interactive": {
     "language": "html"
    },
    "polyglot_notebook": {
     "kernelName": "html"
    },
    "vscode": {
     "languageId": "polyglot-notebook"
    }
   },
   "outputs": [
    {
     "data": {
      "text/html": [
       "<style>\n",
       ".tableData{\n",
       "  border: 1px solid red;\n",
       "  text-align: left;\n",
       "  color: cyan;\n",
       "}\n",
       "\n",
       "th, td, table {\n",
       "  text-align: left;\n",
       "  border: 1px solid red;\n",
       "  border-color: #96D4D4;\n",
       "\n",
       "}\n",
       "\n",
       ".cmd{\n",
       "  color:cyan;\n",
       "}\n",
       "\n",
       "</style>\n",
       "<div>\n",
       "  <h3>\n",
       "    ==========================================================<br>\n",
       "    <table>\n",
       "      <caption>Parameters</caption>\n",
       "      <tr>\n",
       "        <td>Git Repo URL</td>\n",
       "        <td id=\"GitRepoUrl\" class=\"tableData\"></td>\n",
       "      </tr>\n",
       "      <tr>\n",
       "        <td>Git Repo Directory</td>\n",
       "        <td id=\"GitRepoDir\" class=\"tableData\"> </td>\n",
       "      </tr>\n",
       "      <tr>\n",
       "        <td>Current Directory</td>\n",
       "        <td id=\"cwd\" class=\"tableData\"> </td>\n",
       "      </tr>\n",
       "    </table>\n",
       "    ==========================================================<br>\n",
       "  </h3>\n",
       "</div>\n",
       "\n"
      ]
     },
     "metadata": {},
     "output_type": "display_data"
    },
    {
     "ename": "Error",
     "evalue": "Cannot set properties of null (setting 'innerHTML')",
     "output_type": "error",
     "traceback": [
      "Cannot set properties of null (setting 'innerHTML')"
     ]
    }
   ],
   "source": [
    "<style>\n",
    ".tableData{\n",
    "  border: 1px solid red;\n",
    "  text-align: left;\n",
    "  color: cyan;\n",
    "}\n",
    "\n",
    "th, td, table {\n",
    "  text-align: left;\n",
    "  border: 1px solid red;\n",
    "  border-color: #96D4D4;\n",
    "\n",
    "}\n",
    "\n",
    ".cmd{\n",
    "  color:cyan;\n",
    "}\n",
    "\n",
    "</style>\n",
    "<div>\n",
    "  <h3>\n",
    "    ==========================================================<br>\n",
    "    <table>\n",
    "      <caption>Parameters</caption>\n",
    "      <tr>\n",
    "        <td>Git Repo URL</td>\n",
    "        <td id=\"GitRepoUrl\" class=\"tableData\"></td>\n",
    "      </tr>\n",
    "      <tr>\n",
    "        <td>Git Repo Directory</td>\n",
    "        <td id=\"GitRepoDir\" class=\"tableData\"> </td>\n",
    "      </tr>\n",
    "      <tr>\n",
    "        <td>Current Directory</td>\n",
    "        <td id=\"cwd\" class=\"tableData\"> </td>\n",
    "      </tr>\n",
    "    </table>\n",
    "    ==========================================================<br>\n",
    "  </h3>\n",
    "</div>\n",
    "\n",
    "#!javascript\n",
    "#!share  --from pwsh GitRepoUrl\n",
    "#!share  --from pwsh GitRepoDir\n",
    "#!share  --from pwsh cwd\n",
    "document.getElementById(\"GitRepoUrl\").innerHTML = GitRepoUrl\n",
    "document.getElementById(\"GitRepoDir\").innerHTML = GitRepoDir\n",
    "document.getElementById(\"cwd\").innerHTML = cwd"
   ]
  },
  {
   "cell_type": "markdown",
   "metadata": {},
   "source": [
    "## Git Commands"
   ]
  },
  {
   "attachments": {},
   "cell_type": "markdown",
   "metadata": {},
   "source": [
    "### Git clone\n",
    "clone a git repository from a url into a new directory\n",
    "<blockquote>\n",
    "Command<br>\n",
    "<code style=\"color:white\">git clone <span style=\"color:cyan\">[repo url]</span> <span style=\"color:yellow\">[destination dir]</code>\n",
    "</blockquote>"
   ]
  },
  {
   "cell_type": "code",
   "execution_count": null,
   "metadata": {
    "dotnet_interactive": {
     "language": "pwsh"
    },
    "polyglot_notebook": {
     "kernelName": "pwsh"
    },
    "vscode": {
     "languageId": "polyglot-notebook"
    }
   },
   "outputs": [
    {
     "name": "stdout",
     "output_type": "stream",
     "text": [
      "\u001b[31;1mSet-Location: \u001b[31;1mCannot find drive. A drive with the name 'C' does not exist.\u001b[0m\n",
      "\u001b[31;1mRemove-Item: \u001b[0m\n",
      "\u001b[31;1m\u001b[36;1mLine |\u001b[0m\n",
      "\u001b[31;1m\u001b[36;1m\u001b[36;1m   3 | \u001b[0m   \u001b[36;1mRemove-Item $GitRepoDir -Force -Recurse\u001b[0m\n",
      "\u001b[31;1m\u001b[36;1m\u001b[36;1m\u001b[0m\u001b[36;1m\u001b[0m\u001b[36;1m     | \u001b[31;1m   ~~~~~~~~~~~~~~~~~~~~~~~~~~~~~~~~~~~~~~~\u001b[0m\n",
      "\u001b[31;1m\u001b[36;1m\u001b[36;1m\u001b[0m\u001b[36;1m\u001b[0m\u001b[36;1m\u001b[31;1m\u001b[31;1m\u001b[36;1m     | \u001b[31;1mAccess to the path '/mnt/c/MyProjects/TT23/MoveToGit/GitDemo/GitForBeginners/TestRepo' is denied.\u001b[0m\n",
      "\u001b[93m\n",
      "======================================================================\n",
      "Old directory deleted!\n",
      "======================================================================\u001b[0m\n",
      "\u001b[93m\n",
      "======================================================================\n",
      "Cloning ... \n",
      "======================================================================\u001b[0m\n",
      "\u001b[31;1mCloning into 'TestRepo'...\u001b[0m\n"
     ]
    }
   ],
   "source": [
    "cd $cwd\n",
    "if (Test-Path $GitRepoDir){\n",
    "  Remove-Item $GitRepoDir -Force -Recurse\n",
    "  Print-Title \"Old directory deleted!\" \n",
    "}\n",
    "Print-Title \"Cloning ... \" Yellow\n",
    "git clone $GitRepoUrl $GitRepoDir\n",
    "\n",
    "if (Test-Path $GitRepoDir){\n",
    "  cd $cwd/$GitRepoDir\n",
    "  Print-Title \"Cloned successfully!\" Green\n",
    "  Print-Title \"Switching to directory: `n${pwd}\"\n",
    "}\n",
    "else{\n",
    "  Print-Title \"Cloning failed!\" Red\n",
    "}"
   ]
  },
  {
   "attachments": {},
   "cell_type": "markdown",
   "metadata": {},
   "source": [
    "### Git status\n",
    "the following command shows the state of the repo, including modifications etc\n",
    "> Command  \n",
    ">```bash\n",
    "> git status\n",
    ">```"
   ]
  },
  {
   "cell_type": "code",
   "execution_count": null,
   "metadata": {
    "dotnet_interactive": {
     "language": "pwsh"
    },
    "polyglot_notebook": {
     "kernelName": "pwsh"
    },
    "vscode": {
     "languageId": "polyglot-notebook"
    }
   },
   "outputs": [
    {
     "name": "stdout",
     "output_type": "stream",
     "text": [
      "\u001b[93m\n",
      "======================================================================\n",
      "Git Status\n",
      "======================================================================\u001b[0m\n",
      "On branch main\n",
      "Your branch is up to date with 'origin/main'.\n",
      "\n",
      "nothing to commit, working tree clean\n"
     ]
    }
   ],
   "source": [
    "Print-Title \"Git Status\"\n",
    "git status"
   ]
  },
  {
   "attachments": {},
   "cell_type": "markdown",
   "metadata": {},
   "source": [
    "### Git log"
   ]
  },
  {
   "attachments": {},
   "cell_type": "markdown",
   "metadata": {},
   "source": [
    "\n",
    "we can get the commit history of a repo using `git log`\n",
    "> Command  \n",
    ">```bash\n",
    "> git log\n",
    ">```\n",
    "\n",
    ">### [Documentation](https://git-scm.com/book/en/v2/Git-Basics-Viewing-the-Commit-History)"
   ]
  },
  {
   "attachments": {},
   "cell_type": "markdown",
   "metadata": {},
   "source": [
    "#### `git log` options"
   ]
  },
  {
   "attachments": {},
   "cell_type": "markdown",
   "metadata": {},
   "source": [
    "|Option| \tDescription|\n",
    "|--|--|\n",
    "|`-p, --patch`|Show the patch introduced with each commit.|\n",
    "|`--stat`|Show statistics for files modified in each commit.|\n",
    "|`--shortstat`|Display only the changed/insertions/deletions line from the --stat command.|\n",
    "|`--name-only`|Show the list of files modified after the commit information.|\n",
    "|`--name-status`|Show the list of files affected with added/modified/deleted information as well.|\n",
    "|`--abbrev-commit`|Show only the first few characters of the SHA-1 checksum instead of all 40.|\n",
    "|`--relative-date`|Display the date in a relative format (for example, `“2 weeks ago”`) instead of using the full date format.|\n",
    "|`--graph`|Display an ASCII graph of the branch and merge history beside the log output.|\n",
    "|`--pretty`|Show commits in an alternate format. Option values include oneline, short, full, fuller, and format (where you specify your own format).|\n",
    "|`--oneline`|Shorthand for `--pretty=oneline --abbrev-commit` used together.|\n",
    "|----| <h4> Filters </h4>|\n",
    "|`-<n>`|Show only the last n commits, where n is any integer to show the last n commits. example `-2` which displays only the last two commits.\n",
    "|`--since, --after`|Limit the commits to those made after the specified date.|\n",
    "|`--until, --before`|Limit the commits to those made before the specified date.|\n",
    "|`--author`|Only show commits in which the author entry matches the specified string.|\n",
    "|`--committer`|Only show commits in which the committer entry matches the specified string.|\n",
    "|`--grep`|Only show commits with a commit message containing the string.|\n",
    "|`-S`|Only show commits adding or removing code matching the string. <br>eg. `> git log -S function_name`|\n",
    "|`-- <path>`|specfiy a directory or file name to view its log history <br>eg: `git log -- path/to/file`|\n",
    "\n"
   ]
  },
  {
   "attachments": {},
   "cell_type": "markdown",
   "metadata": {},
   "source": [
    "#### Formats"
   ]
  },
  {
   "attachments": {},
   "cell_type": "markdown",
   "metadata": {},
   "source": [
    "\n",
    "| Specifier | Description of Output |\n",
    "|--|--|\n",
    "|`%H`|Commit hash|\n",
    "|`%h`|Abbreviated commit hash|\n",
    "|`%T`|Tree hash|\n",
    "|`%t`|Abbreviated tree hash|\n",
    "|`%P`|Parent hashes|\n",
    "|`%p`|Abbreviated parent hashes|\n",
    "|`%an`|Author name|\n",
    "|`%ae`|Author email|\n",
    "|`%ad`|Author date (format respects the --date=option)|\n",
    "|`%ar`|Author date, relative|\n",
    "|`%cn`|Committer name|\n",
    "|`%ce`|Committer email|\n",
    "|`%cd`|Committer date|\n",
    "|`%cr`|Committer date, relative|\n",
    "|`%s`|Subject|\n",
    "\n",
    ">example\n",
    ">```powershell\n",
    ">git log --pretty=format: \"%h  {%H} - %an, %ar : %s\" \n",
    ">\n",
    ">Output: \n",
    ">\"c38f471  {c38f471c7238813514697c721182e8838192d66d} - Bleicher Zarah (PT-MT/ENS), 11 hours ago : Test to add a file\"\n",
    ">```"
   ]
  },
  {
   "cell_type": "code",
   "execution_count": null,
   "metadata": {
    "dotnet_interactive": {
     "language": "pwsh"
    },
    "polyglot_notebook": {
     "kernelName": "pwsh"
    },
    "vscode": {
     "languageId": "polyglot-notebook"
    }
   },
   "outputs": [
    {
     "name": "stdout",
     "output_type": "stream",
     "text": [
      "\u001b[93m\n",
      "======================================================================\n",
      "git log --pretty=oneline --graph\n",
      "======================================================================\u001b[0m\n",
      "* 793d083b88f51186158cc89939d6129430b7c2c0 added to readme2 //ned\n",
      "* c38f471c7238813514697c721182e8838192d66d Test to add a file\n",
      "* 73dc0f95f0542bb568bb8dee1dc775390e582a00 Grocery list :D\n",
      "*   bddf12019d0830659265291dedaabe755cf79a27 Merge pull request #1 from GRB1LE/dev\n",
      "|\\  \n",
      "| *   818137cd56aec723f78e3813fffb59b4d3533ad4 Merge branch 'main' into dev\n",
      "| |\\  \n",
      "| |/  \n",
      "|/|   \n",
      "* | 6e0344e49d0ed43b3b0f67258044a9d3ac3aa378 test conflict commit\n",
      "| * 0bb63436ab4a1ce5a2a9211b9f671f9eb2397818 modified readme\n",
      "|/  \n",
      "* 95b2589772d0ef658aedaa507f5bfb74cef4f9c0 test commit\n",
      "* a7fe2ba7623fad4404744013fd5fbed53799508b Readme modified //ned\n",
      "* 208f81f0e51469da47319d6433b1c2defe11d83b Test message changed readme\n",
      "* 6a3f2a0830f699766dc87a4ddf1ec8a79d8c93c5 Initial commit\n"
     ]
    }
   ],
   "source": [
    "Print-Title \"git log --pretty=oneline --graph\"\n",
    "git log --pretty=oneline --graph"
   ]
  },
  {
   "cell_type": "code",
   "execution_count": null,
   "metadata": {
    "dotnet_interactive": {
     "language": "pwsh"
    },
    "polyglot_notebook": {
     "kernelName": "pwsh"
    },
    "vscode": {
     "languageId": "polyglot-notebook"
    }
   },
   "outputs": [
    {
     "name": "stdout",
     "output_type": "stream",
     "text": [
      "\u001b[93m\n",
      "======================================================================\n",
      "git log --pretty=format:\"%h  {%H} - %an, %ar : %s\"\n",
      "======================================================================\u001b[0m\n",
      "793d083  {793d083b88f51186158cc89939d6129430b7c2c0} - ATUONWU Chinedum Ugo (PT-MT/ENS), 4 hours ago : added to readme2 //ned\n",
      "c38f471  {c38f471c7238813514697c721182e8838192d66d} - Bleicher Zarah (PT-MT/ENS), 15 hours ago : Test to add a file\n",
      "73dc0f9  {73dc0f95f0542bb568bb8dee1dc775390e582a00} - ATUONWU Chinedum Ugo (PT-MT/ENS), 4 weeks ago : Grocery list :D\n",
      "bddf120  {bddf12019d0830659265291dedaabe755cf79a27} - ATUONWU Chinedum Ugo, 4 weeks ago : Merge pull request #1 from GRB1LE/dev\n",
      "818137c  {818137cd56aec723f78e3813fffb59b4d3533ad4} - ATUONWU Chinedum Ugo, 4 weeks ago : Merge branch 'main' into dev\n",
      "0bb6343  {0bb63436ab4a1ce5a2a9211b9f671f9eb2397818} - ATUONWU Chinedum Ugo (PT-MT/ENS), 4 weeks ago : modified readme\n",
      "6e0344e  {6e0344e49d0ed43b3b0f67258044a9d3ac3aa378} - Gruhler Benjamin, 4 weeks ago : test conflict commit\n",
      "95b2589  {95b2589772d0ef658aedaa507f5bfb74cef4f9c0} - Gruhler Benjamin, 4 weeks ago : test commit\n",
      "a7fe2ba  {a7fe2ba7623fad4404744013fd5fbed53799508b} - ATUONWU Chinedum Ugo (PT-MT/ENS), 6 weeks ago : Readme modified //ned\n",
      "208f81f  {208f81f0e51469da47319d6433b1c2defe11d83b} - Bleicher Zarah (PT-MT/ENS), 6 weeks ago : Test message changed readme\n",
      "6a3f2a0  {6a3f2a0830f699766dc87a4ddf1ec8a79d8c93c5} - Gruhler Benjamin, 6 weeks ago : Initial commit\n"
     ]
    }
   ],
   "source": [
    "Print-Title \"git log --pretty=format:`\"%h  {%H} - %an, %ar : %s`\"\"\n",
    "git log --pretty=format:\"%h  {%H} - %an, %ar : %s\""
   ]
  },
  {
   "cell_type": "code",
   "execution_count": null,
   "metadata": {
    "dotnet_interactive": {
     "language": "pwsh"
    },
    "polyglot_notebook": {
     "kernelName": "pwsh"
    },
    "vscode": {
     "languageId": "polyglot-notebook"
    }
   },
   "outputs": [
    {
     "name": "stdout",
     "output_type": "stream",
     "text": [
      "\u001b[93m\n",
      "======================================================================\n",
      "git log -p -2\n",
      "======================================================================\u001b[0m\n",
      "commit 793d083b88f51186158cc89939d6129430b7c2c0\n",
      "Author: ATUONWU Chinedum Ugo (PT-MT/ENS) <ChinedumUgo.ATUONWU@cn.bosch.com>\n",
      "Date:   Wed Apr 26 10:41:07 2023 +0800\n",
      "\n",
      "    added to readme2 //ned\n",
      "\n",
      "diff --git a/README2.md b/README2.md\n",
      "index 37f884c..f589731 100644\n",
      "--- a/README2.md\n",
      "+++ b/README2.md\n",
      "@@ -1 +1,2 @@\n",
      "-README2 created to see how to add files. / Zarah\n",
      "\\ No newline at end of file\n",
      "+README2 created to see how to add files. / Zarah\n",
      "+This a new line, soooo new :D\n",
      "\n",
      "commit c38f471c7238813514697c721182e8838192d66d\n",
      "Author: Bleicher Zarah (PT-MT/ENS) <blz3le@bosch.com>\n",
      "Date:   Tue Apr 25 17:40:57 2023 +0200\n",
      "\n",
      "    Test to add a file\n",
      "\n",
      "diff --git a/README2.md b/README2.md\n",
      "new file mode 100644\n",
      "index 0000000..37f884c\n",
      "--- /dev/null\n",
      "+++ b/README2.md\n",
      "@@ -0,0 +1 @@\n",
      "+README2 created to see how to add files. / Zarah\n",
      "\\ No newline at end of file\n"
     ]
    }
   ],
   "source": [
    "Print-Title \"git log -p -2\"\n",
    "git log -p -2\n"
   ]
  },
  {
   "cell_type": "markdown",
   "metadata": {},
   "source": [
    "### Files in directory"
   ]
  },
  {
   "cell_type": "code",
   "execution_count": null,
   "metadata": {
    "dotnet_interactive": {
     "language": "pwsh"
    },
    "polyglot_notebook": {
     "kernelName": "pwsh"
    },
    "vscode": {
     "languageId": "polyglot-notebook"
    }
   },
   "outputs": [
    {
     "name": "stdout",
     "output_type": "stream",
     "text": [
      "\u001b[93m\n",
      "======================================================================\n",
      "Files in Folder\n",
      "======================================================================\u001b[0m\n",
      "\n",
      "    Directory: C:\\MyProjects\\TT23\\MoveToGit\\GitDemo\\GitForBeginners\\TestRepo\n",
      "\n",
      "\u001b[32;1mMode                 LastWriteTime         Length Name\u001b[0m\n",
      "\u001b[32;1m----                 -------------         ------ ----\u001b[0m\n",
      "-a---           4/26/2023  3:05 PM            233 README.md\n",
      "-a---           4/26/2023  3:05 PM             81 README2.md\n",
      "\n"
     ]
    }
   ],
   "source": [
    "Print-Title \"Files in Folder\"\n",
    "dir"
   ]
  },
  {
   "cell_type": "markdown",
   "metadata": {},
   "source": [
    "### View Readme.md"
   ]
  },
  {
   "cell_type": "code",
   "execution_count": null,
   "metadata": {
    "dotnet_interactive": {
     "language": "pwsh"
    },
    "polyglot_notebook": {
     "kernelName": "pwsh"
    },
    "vscode": {
     "languageId": "polyglot-notebook"
    }
   },
   "outputs": [
    {
     "name": "stdout",
     "output_type": "stream",
     "text": [
      "\u001b[93m\n",
      "======================================================================\n",
      "Contents of Readme.md\n",
      "======================================================================\u001b[0m\n",
      "\n",
      "# m2git\n",
      "Test repo for the TeamTarget 2023 Move2Git\n",
      "Add Test Content / Zarah\n",
      "Ned can also clone and modify this repo.\n",
      "\n",
      "Benni add a change\n",
      "\n",
      "ned added a branch\n",
      "\n",
      "Benjamin create an conflict commit\n",
      "\n",
      "### Grocery list\n",
      "* Milk\n",
      "* Sugar\n",
      "* Tea\n",
      "\n"
     ]
    }
   ],
   "source": [
    "Print-Title \"Contents of Readme.md\"\n",
    "Write-Host \"\"\n",
    "Get-Content Readme.md"
   ]
  },
  {
   "attachments": {},
   "cell_type": "markdown",
   "metadata": {},
   "source": [
    "### Modify and view Readme File"
   ]
  },
  {
   "cell_type": "code",
   "execution_count": null,
   "metadata": {
    "dotnet_interactive": {
     "language": "pwsh"
    },
    "polyglot_notebook": {
     "kernelName": "pwsh"
    },
    "vscode": {
     "languageId": "polyglot-notebook"
    }
   },
   "outputs": [
    {
     "name": "stdout",
     "output_type": "stream",
     "text": [
      "\u001b[93m\n",
      "======================================================================\n",
      "Modified Readme.md file\n",
      "======================================================================\u001b[0m\n",
      "\n",
      "# m2git\n",
      "Test repo for the TeamTarget 2023 Move2Git\n",
      "Add Test Content / Zarah\n",
      "Ned can also clone and modify this repo.\n",
      "\n",
      "Benni add a change\n",
      "\n",
      "ned added a branch\n",
      "\n",
      "Benjamin create an conflict commit\n",
      "\n",
      "### Grocery list\n",
      "* Milk\n",
      "* Sugar\n",
      "* Tea\n",
      "\n",
      "* new line added to readme for no serious reason\n"
     ]
    }
   ],
   "source": [
    "Print-Title \"Modified Readme.md file\"\n",
    "Write-Host \"\"\n",
    "\n",
    "$ReadmeMsg = \"* new line added to readme for no serious reason\"\n",
    "\n",
    "echo $ReadmeMsg >> Readme.md\n",
    "Get-Content Readme.md"
   ]
  },
  {
   "attachments": {},
   "cell_type": "markdown",
   "metadata": {},
   "source": [
    "### View Changes [`git status`]\n"
   ]
  },
  {
   "cell_type": "code",
   "execution_count": null,
   "metadata": {
    "dotnet_interactive": {
     "language": "pwsh"
    },
    "polyglot_notebook": {
     "kernelName": "pwsh"
    },
    "vscode": {
     "languageId": "polyglot-notebook"
    }
   },
   "outputs": [
    {
     "name": "stdout",
     "output_type": "stream",
     "text": [
      "\u001b[93m\n",
      "======================================================================\n",
      "-> git status\n",
      "======================================================================\u001b[0m\n",
      "On branch main\n",
      "Your branch is up to date with 'origin/main'.\n",
      "\n",
      "Changes to be committed:\n",
      "  (use \"git restore --staged <file>...\" to unstage)\n",
      "\tmodified:   README.md\n",
      "\n"
     ]
    }
   ],
   "source": [
    "Print-Title \"-> git status\"\n",
    "git status"
   ]
  },
  {
   "attachments": {},
   "cell_type": "markdown",
   "metadata": {},
   "source": [
    "### Stage Changes\n",
    "This command stages files for a commit\n",
    "> Command\n",
    ">```bash\n",
    ">git add [files-to-stage]\n",
    ">\n",
    ">Example:\n",
    ">git add Readme.md\n",
    ">```\n",
    "use `-all` to stage all files   "
   ]
  },
  {
   "cell_type": "code",
   "execution_count": null,
   "metadata": {
    "dotnet_interactive": {
     "language": "pwsh"
    },
    "polyglot_notebook": {
     "kernelName": "pwsh"
    },
    "vscode": {
     "languageId": "polyglot-notebook"
    }
   },
   "outputs": [
    {
     "name": "stdout",
     "output_type": "stream",
     "text": [
      "\u001b[93m\n",
      "======================================================================\n",
      "Staged Files\n",
      "======================================================================\u001b[0m\n",
      "On branch main\n",
      "Your branch is up to date with 'origin/main'.\n",
      "\n",
      "Changes to be committed:\n",
      "  (use \"git restore --staged <file>...\" to unstage)\n",
      "\tmodified:   README.md\n",
      "\n"
     ]
    }
   ],
   "source": [
    "Print-Title \"Staged Files\"\n",
    "git add README.md\n",
    "git status"
   ]
  },
  {
   "attachments": {},
   "cell_type": "markdown",
   "metadata": {},
   "source": [
    "### Git commit\n",
    ">Command  \n",
    ">```bash\n",
    ">```\n",
    "><code style=\"color:white\">git <span style=\"color:cyan\">commit</span> -m <span style=\"color:yellow\">[commit message]</span></code>"
   ]
  },
  {
   "cell_type": "code",
   "execution_count": null,
   "metadata": {
    "dotnet_interactive": {
     "language": "pwsh"
    },
    "polyglot_notebook": {
     "kernelName": "pwsh"
    },
    "vscode": {
     "languageId": "polyglot-notebook"
    }
   },
   "outputs": [
    {
     "name": "stdout",
     "output_type": "stream",
     "text": [
      "\u001b[93m\n",
      "======================================================================\n",
      "-> git commit -m \"message\"\n",
      "======================================================================\u001b[0m\n",
      "[main c7b97f1] Modified Readme file\n",
      " 1 file changed, 1 insertion(+)\n",
      "\u001b[93m\n",
      "======================================================================\n",
      "Git Status\n",
      "======================================================================\u001b[0m\n",
      "On branch main\n",
      "Your branch is ahead of 'origin/main' by 1 commit.\n",
      "  (use \"git push\" to publish your local commits)\n",
      "\n",
      "nothing to commit, working tree clean\n"
     ]
    }
   ],
   "source": [
    "Print-Title \"-> git commit -m `\"message`\"\"\n",
    "git commit -m \"Modified Readme file\"\n",
    "\n",
    "Print-Title \"Git Status\" Yellow\n",
    "git status"
   ]
  },
  {
   "attachments": {},
   "cell_type": "markdown",
   "metadata": {},
   "source": [
    "### Git branches\n",
    ">### [Documentation]()\n",
    "**View branches:**\n",
    "This command shows all the local/checked out branches in a repository\n",
    ">Command   \n",
    ">```bash\n",
    ">git branch \n",
    ">```\n",
    ">\n",
    ">Optional flags   \n",
    ">`-a` : used to view all branches (local and remote)  \n",
    ">`-r` : to view remote branches only   \n",
    "\n",
    "**Add branch:**\n",
    ">Command   \n",
    ">```bash\n",
    ">git branch [name]\n",
    ">```\n",
    "\n",
    "**Switch branch:**\n",
    "switch to another branch using  \n",
    ">Command   \n",
    ">```bash\n",
    ">git checkout [branch-name]\n",
    ">OR\n",
    ">git switch [branch-name]\n",
    ">```\n",
    "When `-b` is added `git checkout`, a new branch is created and switched to if it doesn't exist  \n",
    "When `-c` or `--create` is added `git switch`, a new branch is created and switched to if it doesn't exist  <br>\n",
    "\n",
    "switch to previous branch using: \n",
    ">```bash\n",
    ">git checkout -\n",
    ">OR\n",
    ">git switch -\n",
    ">```\n",
    "\n",
    "**Delete branch:**\n",
    ">Command   \n",
    ">```bash\n",
    ">git branch -d [branch-name]\n",
    ">```\n"
   ]
  },
  {
   "cell_type": "code",
   "execution_count": null,
   "metadata": {
    "dotnet_interactive": {
     "language": "pwsh"
    },
    "polyglot_notebook": {
     "kernelName": "pwsh"
    },
    "vscode": {
     "languageId": "polyglot-notebook"
    }
   },
   "outputs": [
    {
     "name": "stdout",
     "output_type": "stream",
     "text": [
      "\u001b[93m\n",
      "======================================================================\n",
      "Branches \"git branch\"\n",
      "======================================================================\u001b[0m\n",
      "* main\n",
      "\u001b[93m\n",
      "======================================================================\n",
      "Add Branch \"dev: 'git branch dev'\n",
      "======================================================================\u001b[0m\n",
      "\u001b[93m\n",
      "======================================================================\n",
      "View all branches: 'git branch -a'\n",
      "======================================================================\u001b[0m\n",
      "  dev\n",
      "* main\n",
      "  remotes/origin/HEAD -> origin/main\n",
      "  remotes/origin/main\n"
     ]
    }
   ],
   "source": [
    "Print-Title \"Branches `\"git branch`\"\"\n",
    "git branch\n",
    "Print-Title \"Add Branch `\"dev`: 'git branch dev'\"\n",
    "git branch dev\n",
    "\n",
    "Print-Title \"View all branches: 'git branch -a'\"\n",
    "git branch -a\n"
   ]
  },
  {
   "cell_type": "code",
   "execution_count": null,
   "metadata": {
    "dotnet_interactive": {
     "language": "pwsh"
    },
    "polyglot_notebook": {
     "kernelName": "pwsh"
    },
    "vscode": {
     "languageId": "polyglot-notebook"
    }
   },
   "outputs": [
    {
     "name": "stdout",
     "output_type": "stream",
     "text": [
      "\u001b[93m\n",
      "======================================================================\n",
      "Switch to 'dev' branch using switch: 'git switch dev'\n",
      "======================================================================\u001b[0m\n",
      "M\tREADME.md\n",
      "\u001b[31;1mSwitched to branch 'dev'\u001b[0m\n",
      "\u001b[93m\n",
      "======================================================================\n",
      "Switch to 'main' branch using 'checkout': 'git checkout main'\n",
      "======================================================================\u001b[0m\n",
      "M\tREADME.md\n",
      "\u001b[31;1mSwitched to branch 'main'\u001b[0m\n",
      "Your branch is up to date with 'origin/main'.\n",
      "\u001b[93m\n",
      "======================================================================\n",
      "Switch to previous branch 'dev' using 'switch/checkout': 'git switch -'\n",
      "======================================================================\u001b[0m\n",
      "M\tREADME.md\n",
      "\u001b[31;1mSwitched to branch 'dev'\u001b[0m\n"
     ]
    }
   ],
   "source": [
    "\n",
    "Print-Title \"Switch to 'dev' branch using `switch`: 'git switch dev'\"\n",
    "git switch dev\n",
    "\n",
    "Print-Title \"Switch to 'main' branch using 'checkout': 'git checkout main'\"\n",
    "git checkout main\n",
    "\n",
    "Print-Title \"Switch to previous branch 'dev' using 'switch/checkout': 'git switch -'\"\n",
    "git switch -\n"
   ]
  },
  {
   "cell_type": "code",
   "execution_count": null,
   "metadata": {
    "dotnet_interactive": {
     "language": "pwsh"
    },
    "polyglot_notebook": {
     "kernelName": "pwsh"
    },
    "vscode": {
     "languageId": "polyglot-notebook"
    }
   },
   "outputs": [],
   "source": [
    "### Restore files / reset"
   ]
  },
  {
   "cell_type": "code",
   "execution_count": null,
   "metadata": {
    "dotnet_interactive": {
     "language": "pwsh"
    },
    "polyglot_notebook": {
     "kernelName": "pwsh"
    },
    "vscode": {
     "languageId": "polyglot-notebook"
    }
   },
   "outputs": [],
   "source": [
    "### Unstage files\n",
    "#### git reset"
   ]
  },
  {
   "cell_type": "code",
   "execution_count": null,
   "metadata": {
    "dotnet_interactive": {
     "language": "pwsh"
    },
    "polyglot_notebook": {
     "kernelName": "pwsh"
    },
    "vscode": {
     "languageId": "polyglot-notebook"
    }
   },
   "outputs": [],
   "source": [
    "### git stash"
   ]
  },
  {
   "cell_type": "code",
   "execution_count": null,
   "metadata": {
    "dotnet_interactive": {
     "language": "pwsh"
    },
    "polyglot_notebook": {
     "kernelName": "pwsh"
    },
    "vscode": {
     "languageId": "polyglot-notebook"
    }
   },
   "outputs": [],
   "source": [
    "### git pull"
   ]
  },
  {
   "cell_type": "code",
   "execution_count": null,
   "metadata": {
    "dotnet_interactive": {
     "language": "pwsh"
    },
    "polyglot_notebook": {
     "kernelName": "pwsh"
    },
    "vscode": {
     "languageId": "polyglot-notebook"
    }
   },
   "outputs": [],
   "source": [
    "### git push"
   ]
  },
  {
   "cell_type": "code",
   "execution_count": null,
   "metadata": {
    "dotnet_interactive": {
     "language": "pwsh"
    },
    "polyglot_notebook": {
     "kernelName": "pwsh"
    },
    "vscode": {
     "languageId": "polyglot-notebook"
    }
   },
   "outputs": [],
   "source": [
    "### git merge"
   ]
  }
 ],
 "metadata": {
  "language_info": {
   "name": "python"
  },
  "orig_nbformat": 4
 },
 "nbformat": 4,
 "nbformat_minor": 2
}
